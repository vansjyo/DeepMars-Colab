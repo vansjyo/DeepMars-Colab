{
  "nbformat": 4,
  "nbformat_minor": 0,
  "metadata": {
    "colab": {
      "name": "Preprocess.ipynb",
      "provenance": [],
      "collapsed_sections": [],
      "machine_shape": "hm",
      "include_colab_link": true
    },
    "kernelspec": {
      "name": "python3",
      "display_name": "Python 3"
    },
    "accelerator": "TPU"
  },
  "cells": [
    {
      "cell_type": "markdown",
      "metadata": {
        "id": "view-in-github",
        "colab_type": "text"
      },
      "source": [
        "<a href=\"https://colab.research.google.com/github/vansjyo/DeepMars-Colab/blob/master/Preprocess.ipynb\" target=\"_parent\"><img src=\"https://colab.research.google.com/assets/colab-badge.svg\" alt=\"Open In Colab\"/></a>"
      ]
    },
    {
      "cell_type": "code",
      "metadata": {
        "id": "e0nxEiswCbO8",
        "colab_type": "code",
        "colab": {}
      },
      "source": [
        "from google.colab import drive\n",
        "drive.mount('/content/drive')"
      ],
      "execution_count": 0,
      "outputs": []
    },
    {
      "cell_type": "code",
      "metadata": {
        "id": "V4IyWkQ3sRFG",
        "colab_type": "code",
        "colab": {}
      },
      "source": [
        "import keras\n",
        "import matplotlib.pyplot as plt\n",
        "import numpy as np\n",
        "from glob import glob\n",
        "from PIL import Image\n",
        "import gdal\n",
        "import cv2\n",
        "from skimage import io\n",
        "from keras.utils import to_categorical\n",
        "from keras.preprocessing.image import ImageDataGenerator"
      ],
      "execution_count": 0,
      "outputs": []
    },
    {
      "cell_type": "code",
      "metadata": {
        "id": "BM7S3GBbsoQ0",
        "colab_type": "code",
        "colab": {}
      },
      "source": [
        "train_images = sorted(glob(\"/content/drive/My Drive/DeepCrater/Test/*tif\"))\n",
        "label_images = sorted(glob(\"/content/drive/My Drive/DeepCrater/Labels/*tif\"))\n",
        "print(\"Labelled : \", len(label_images), \"Training : \", len(train_images))\n",
        "\n",
        "def ImportImage( filename):\n",
        "    img = io.imread(filename)\n",
        "    img = img.astype('float32') / 255\n",
        "    print(img.shape)\n",
        "    return np.array(img)[:]\n",
        "\n",
        "X = np.array( [ ImportImage(img) for img in train_images ] )\n",
        "Y = np.array( [ ImportImage(img) for img in label_images ] )\n",
        "plt.imshow(X[0])"
      ],
      "execution_count": 0,
      "outputs": []
    },
    {
      "cell_type": "code",
      "metadata": {
        "id": "mtTYdTNtwgl2",
        "colab_type": "code",
        "colab": {}
      },
      "source": [
        "augmented_x = []\n",
        "augmented_y = []\n",
        "\n",
        "# Augment rare\n",
        "datagen = ImageDataGenerator(\n",
        "    rotation_range=90,  # randomly rotate images in the range (degrees, 0 to 180)\n",
        "    width_shift_range=0.2, # randomly shift images horizontally (fraction of total width)\n",
        "    height_shift_range=0.1, # randomly shift images vertically (fraction of total height)\n",
        "    zoom_range=[0.96,1],  # set range for random zoom\n",
        "    horizontal_flip=True,  # randomly flip images\n",
        "    vertical_flip=True,  # randomly flip images\n",
        "    )\n",
        "datagen.fit(X)\n",
        "\n",
        "iteration = 0\n",
        "limit = 20\n",
        "\n",
        "for x_batch, y_batch in datagen.flow(X, Y, batch_size = 1):\n",
        "    fname_x = \"/content/drive/My Drive/DeepCrater/Augmented//Train/Train_\" + str(iteration) + \".tif\"\n",
        "    fname_y = \"/content/drive/My Drive/DeepCrater/Augmented/Label/Label_\" + str(iteration) + \".tif\"\n",
        "    # io.imsave(fname_x, x_batch)\n",
        "    # io.imsave(fname_y, y_batch)\n",
        "    augmented_x.extend(x_batch[:])   \n",
        "    augmented_y.extend(y_batch[:])    \n",
        "    iteration += 1\n",
        "    if iteration >= limit:\n",
        "        break\n",
        "\n",
        "augmented_x = np.array(augmented_x)\n",
        "augmented_y = np.array(augmented_y)\n",
        "print(augmented_x.shape)"
      ],
      "execution_count": 0,
      "outputs": []
    },
    {
      "cell_type": "code",
      "metadata": {
        "id": "edK7k392IMic",
        "colab_type": "code",
        "colab": {}
      },
      "source": [
        "fig,a =  plt.subplots(10,2)\n",
        "for i in range(10):\n",
        "  a[i][0].imshow(augmented_x[i])\n",
        "  a[i][1].imshow(augmented_y[i])\n",
        "plt.figure()"
      ],
      "execution_count": 0,
      "outputs": []
    },
    {
      "cell_type": "code",
      "metadata": {
        "id": "4QXN2dvzx2eN",
        "colab_type": "code",
        "colab": {}
      },
      "source": [
        "# Shuffle train and test\n",
        "shufflePermutation = np.random.permutation(len(x_train))\n",
        "x_train = x_train[shufflePermutation]\n",
        "y_train = y_train[shufflePermutation]"
      ],
      "execution_count": 0,
      "outputs": []
    }
  ]
}